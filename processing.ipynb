{
 "cells": [
  {
   "cell_type": "code",
   "execution_count": 29,
   "metadata": {},
   "outputs": [],
   "source": [
    "from PIL import Image, ImageFont, ImageDraw\n",
    "import os\n",
    "import numpy as np\n",
    "import glob\n",
    "import cv2\n",
    "from matplotlib import pyplot as plt"
   ]
  },
  {
   "cell_type": "code",
   "execution_count": 30,
   "metadata": {},
   "outputs": [],
   "source": [
    "\n",
    "def findFiles(path): \n",
    "    return glob.glob(path)\n",
    "folder_list = findFiles('C:\\\\Users\\\\pasaa\\\\OneDrive\\\\Grad\\\\CSC 449\\\\Project\\\\data\\\\trainset_new\\\\*')"
   ]
  },
  {
   "cell_type": "code",
   "execution_count": 31,
   "metadata": {},
   "outputs": [
    {
     "data": {
      "text/plain": [
       "['C:\\\\Users\\\\pasaa\\\\OneDrive\\\\Grad\\\\CSC 449\\\\Project\\\\data\\\\trainset_new\\\\chinese.simli',\n",
       " 'C:\\\\Users\\\\pasaa\\\\OneDrive\\\\Grad\\\\CSC 449\\\\Project\\\\data\\\\trainset_new\\\\Deng',\n",
       " 'C:\\\\Users\\\\pasaa\\\\OneDrive\\\\Grad\\\\CSC 449\\\\Project\\\\data\\\\trainset_new\\\\Dengb',\n",
       " 'C:\\\\Users\\\\pasaa\\\\OneDrive\\\\Grad\\\\CSC 449\\\\Project\\\\data\\\\trainset_new\\\\Dengl',\n",
       " 'C:\\\\Users\\\\pasaa\\\\OneDrive\\\\Grad\\\\CSC 449\\\\Project\\\\data\\\\trainset_new\\\\hei',\n",
       " 'C:\\\\Users\\\\pasaa\\\\OneDrive\\\\Grad\\\\CSC 449\\\\Project\\\\data\\\\trainset_new\\\\li',\n",
       " 'C:\\\\Users\\\\pasaa\\\\OneDrive\\\\Grad\\\\CSC 449\\\\Project\\\\data\\\\trainset_new\\\\LongCang-Regular',\n",
       " 'C:\\\\Users\\\\pasaa\\\\OneDrive\\\\Grad\\\\CSC 449\\\\Project\\\\data\\\\trainset_new\\\\MaShanZheng-Regular',\n",
       " 'C:\\\\Users\\\\pasaa\\\\OneDrive\\\\Grad\\\\CSC 449\\\\Project\\\\data\\\\trainset_new\\\\simfang',\n",
       " 'C:\\\\Users\\\\pasaa\\\\OneDrive\\\\Grad\\\\CSC 449\\\\Project\\\\data\\\\trainset_new\\\\WanYongCuLi-2',\n",
       " 'C:\\\\Users\\\\pasaa\\\\OneDrive\\\\Grad\\\\CSC 449\\\\Project\\\\data\\\\trainset_new\\\\ZCOOLQingKeHuangYou-Regular']"
      ]
     },
     "execution_count": 31,
     "metadata": {},
     "output_type": "execute_result"
    }
   ],
   "source": [
    "folder_list"
   ]
  },
  {
   "cell_type": "code",
   "execution_count": 33,
   "metadata": {},
   "outputs": [],
   "source": [
    "train = []\n",
    "for i in folder_list:\n",
    "    i_ = i + '\\\\*.png'\n",
    "    fonts_list= findFiles(i_)\n",
    "    train.append(fonts_list)"
   ]
  },
  {
   "cell_type": "code",
   "execution_count": 4,
   "metadata": {},
   "outputs": [],
   "source": [
    "blank = np.full(cv2.imread(train[0][0]).shape, 255)\n",
    "img_error = cv2.imread(folder_list[10] + '\\\\2.png')"
   ]
  },
  {
   "cell_type": "code",
   "execution_count": 8,
   "metadata": {},
   "outputs": [
    {
     "name": "stderr",
     "output_type": "stream",
     "text": [
      "100%|██████████████████████████████████████████████████████████████████████████████████| 11/11 [01:36<00:00,  8.73s/it]\n"
     ]
    }
   ],
   "source": [
    "from tqdm import tqdm \n",
    "num_problem = []\n",
    "for i in tqdm(range(len(train))):\n",
    "    for num in range(len(train[i])):\n",
    "        if np.array_equal(cv2.imread(train[i][num]), blank) or np.array_equal(cv2.imread(train[i][num]), img_error):\n",
    "            num_problem.append(num)\n"
   ]
  },
  {
   "cell_type": "code",
   "execution_count": 9,
   "metadata": {},
   "outputs": [],
   "source": [
    "num_problem = list(set(num_problem))"
   ]
  },
  {
   "cell_type": "code",
   "execution_count": 38,
   "metadata": {},
   "outputs": [],
   "source": [
    "for j in train:\n",
    "    for i in num_problem:\n",
    "        if os.path.exists(j[i]):\n",
    "            os.remove(j[i])\n"
   ]
  }
 ],
 "metadata": {
  "kernelspec": {
   "display_name": "Python 3",
   "language": "python",
   "name": "python3"
  },
  "language_info": {
   "codemirror_mode": {
    "name": "ipython",
    "version": 3
   },
   "file_extension": ".py",
   "mimetype": "text/x-python",
   "name": "python",
   "nbconvert_exporter": "python",
   "pygments_lexer": "ipython3",
   "version": "3.8.3"
  }
 },
 "nbformat": 4,
 "nbformat_minor": 4
}
