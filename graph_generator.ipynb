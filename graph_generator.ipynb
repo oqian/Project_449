{
 "cells": [
  {
   "cell_type": "markdown",
   "metadata": {},
   "source": [
    "Objective 1: Read Chinese characters, transform them to graphs of two fonts. \n",
    "\n",
    "Objective 2: Do data augmentation. "
   ]
  },
  {
   "cell_type": "markdown",
   "metadata": {},
   "source": [
    "Example of transforming a string to a graph:\n"
   ]
  },
  {
   "cell_type": "code",
   "execution_count": 2,
   "metadata": {},
   "outputs": [
    {
     "name": "stdout",
     "output_type": "stream",
     "text": [
      "[[[255 255 255]\n",
      "  [255 255 255]\n",
      "  [255 255 255]\n",
      "  ...\n",
      "  [255 255 255]\n",
      "  [255 255 255]\n",
      "  [255 255 255]]\n",
      "\n",
      " [[255 255 255]\n",
      "  [255 255 255]\n",
      "  [255 255 255]\n",
      "  ...\n",
      "  [255 255 255]\n",
      "  [255 255 255]\n",
      "  [255 255 255]]\n",
      "\n",
      " [[255 255 255]\n",
      "  [255 255 255]\n",
      "  [255 255 255]\n",
      "  ...\n",
      "  [255 255 255]\n",
      "  [255 255 255]\n",
      "  [255 255 255]]\n",
      "\n",
      " ...\n",
      "\n",
      " [[255 255 255]\n",
      "  [255 255 255]\n",
      "  [255 255 255]\n",
      "  ...\n",
      "  [255 255 255]\n",
      "  [255 255 255]\n",
      "  [255 255 255]]\n",
      "\n",
      " [[255 255 255]\n",
      "  [255 255 255]\n",
      "  [255 255 255]\n",
      "  ...\n",
      "  [255 255 255]\n",
      "  [255 255 255]\n",
      "  [255 255 255]]\n",
      "\n",
      " [[255 255 255]\n",
      "  [255 255 255]\n",
      "  [255 255 255]\n",
      "  ...\n",
      "  [255 255 255]\n",
      "  [255 255 255]\n",
      "  [255 255 255]]]\n",
      "[[255 255 255 ... 255 255 255]\n",
      " [255 255 255 ... 255 255 255]\n",
      " [255 255 255 ... 255 255 255]\n",
      " ...\n",
      " [255 255 255 ... 255 255 255]\n",
      " [255 255 255 ... 255 255 255]\n",
      " [255 255 255 ... 255 255 255]]\n"
     ]
    }
   ],
   "source": [
    "from PIL import Image, ImageFont, ImageDraw\n",
    "import os\n",
    "import numpy as np\n",
    "import glob\n",
    "text = u\"专\"\n",
    " \n",
    "# text = u\"書\"\n",
    "\n",
    "size = width, height = 120, 120\n",
    "fontSize = 90 \n",
    "\n",
    "\n",
    "# red is for the background color \n",
    "im = Image.new(\"RGB\", size, 'white')       # (255, 255, 255)\n",
    "dr = ImageDraw.Draw(im)\n",
    "\n",
    "font = ImageFont.truetype(os.path.join(\"fonts\", \"li.ttf\"), fontSize)\n",
    "for width in [0, 1, 2]:\n",
    "    dr.text((15, 0), text, font=font, fill=\"#000000\", stroke_width=width)\n",
    "    im.show()\n",
    "\n",
    "im.rotate(angle=10, fillcolor='white').show()\n",
    "\n",
    "image_array = np.asarray(im)\n",
    "print(image_array)\n",
    "# print(image_array[range(image_array.shape[0]), range(image_array.shape[1]), 0])\n",
    "print(image_array[:,:,0])"
   ]
  },
  {
   "cell_type": "code",
   "execution_count": 10,
   "metadata": {},
   "outputs": [
    {
     "ename": "AttributeError",
     "evalue": "'ImageDraw' object has no attribute 'show'",
     "output_type": "error",
     "traceback": [
      "\u001b[1;31m---------------------------------------------------------------------------\u001b[0m",
      "\u001b[1;31mAttributeError\u001b[0m                            Traceback (most recent call last)",
      "\u001b[1;32m<ipython-input-10-0ae259933d83>\u001b[0m in \u001b[0;36m<module>\u001b[1;34m\u001b[0m\n\u001b[0;32m      1\u001b[0m \u001b[1;31m# Crop the image:\u001b[0m\u001b[1;33m\u001b[0m\u001b[1;33m\u001b[0m\u001b[1;33m\u001b[0m\u001b[0m\n\u001b[1;32m----> 2\u001b[1;33m \u001b[0mdr\u001b[0m\u001b[1;33m.\u001b[0m\u001b[0mshow\u001b[0m\u001b[1;33m(\u001b[0m\u001b[1;33m)\u001b[0m\u001b[1;33m\u001b[0m\u001b[1;33m\u001b[0m\u001b[0m\n\u001b[0m",
      "\u001b[1;31mAttributeError\u001b[0m: 'ImageDraw' object has no attribute 'show'"
     ]
    }
   ],
   "source": [
    "# Crop the image: \n",
    "dr.show()"
   ]
  },
  {
   "cell_type": "code",
   "execution_count": 6,
   "metadata": {},
   "outputs": [
    {
     "data": {
      "text/plain": [
       "<matplotlib.image.AxesImage at 0x213814449a0>"
      ]
     },
     "execution_count": 6,
     "metadata": {},
     "output_type": "execute_result"
    },
    {
     "data": {
      "image/png": "[encoded data removed]",
      "text/plain": [
       "<Figure size 432x288 with 1 Axes>"
      ]
     },
     "metadata": {
      "needs_background": "light"
     },
     "output_type": "display_data"
    }
   ],
   "source": [
    "import cv2\n",
    "from matplotlib import pyplot as plt\n",
    "\n",
    "img = cv2.imread('output.png')\n",
    "\n",
    "blur = cv2.blur(img, (5,5))\n",
    "\n",
    "ret,thresh1 = cv2.threshold(blur,127,255,cv2.THRESH_TOZERO)\n",
    "\n",
    "\n",
    "plt.imshow(thresh1)\n",
    "\n"
   ]
  },
  {
   "cell_type": "markdown",
   "metadata": {},
   "source": [
    "# Production space:\n"
   ]
  },
  {
   "cell_type": "markdown",
   "metadata": {},
   "source": [
    "Now let's read characters from characters.txt\n",
    "\n",
    "https://www.qqxiuzi.cn/zh/hanzi/daquan-3.htm\n",
    "\n",
    "https://medium.com/@tifa2up/image-classification-using-deep-neural-networks-a-beginner-friendly-approach-using-tensorflow-94b0a090ccd4"
   ]
  },
  {
   "cell_type": "code",
   "execution_count": 3,
   "metadata": {},
   "outputs": [],
   "source": [
    "characters_list = [] \n",
    "with open('characters.txt', 'r', encoding='utf-8') as file:\n",
    "    i = 0 \n",
    "    for line in file:\n",
    "        characters_list = line.split(' ')"
   ]
  },
  {
   "cell_type": "markdown",
   "metadata": {},
   "source": [
    "Data augmentation:\n",
    "You cannot rotate it upside down. Because for this specific font, for stroke 'heng' (basically a horizontal bar), the modification of the stroke at the left end (where it starts) is different from the modification of the stroke at the right end (where it ends).  "
   ]
  },
  {
   "cell_type": "code",
   "execution_count": 4,
   "metadata": {},
   "outputs": [
    {
     "name": "stderr",
     "output_type": "stream",
     "text": [
      "20905it [00:30, 677.17it/s]\n"
     ]
    }
   ],
   "source": [
    "from tqdm import tqdm \n",
    "\n",
    "size = width, height = 100, 100\n",
    "fontsize = 80\n",
    "backgroundColor = 'white'\n",
    "\n",
    "def findFiles(path): \n",
    "    return glob.glob(path)\n",
    "\n",
    "fonts_list = findFiles('C:\\\\Users\\\\pasaa\\\\OneDrive\\\\Grad\\\\CSC 449\\\\Project\\\\data\\\\fonts\\\\*.ttf')\n",
    "\n",
    "for font in fonts_list:\n",
    "    font_name = os.path.splitext(os.path.basename(font))[0]\n",
    "    # set the font\n",
    "    font = ImageFont.truetype(os.path.join(\"fonts\", font), fontsize)\n",
    "    if not os.path.exists('./trainset_new/%s' %font_name):\n",
    "        os.mkdir('./trainset_new/%s' %font_name)\n",
    "    for index, char in tqdm(enumerate(characters_list)): \n",
    "        text = char \n",
    "        im = Image.new(\"RGB\", size, backgroundColor) \n",
    "        dr = ImageDraw.Draw(im)        \n",
    "        # Write this character to the drawboard! \n",
    "        dr.text((0, 0), text, font=font, fill=\"#000000\")\n",
    "        # Save this plain version to the disk \n",
    "        im.save('trainset_new/%s/' %font_name+str(index)+'.png')\n",
    "    \n",
    "    break    \n"
   ]
  },
  {
   "cell_type": "code",
   "execution_count": 21,
   "metadata": {},
   "outputs": [],
   "source": [
    "characters_list = [] \n",
    "with open('characters_eng.txt', 'r', encoding='utf-8') as file:\n",
    "    i = 0 \n",
    "    for line in file:\n",
    "        characters_list = line.split(' ')"
   ]
  },
  {
   "cell_type": "code",
   "execution_count": 22,
   "metadata": {},
   "outputs": [],
   "source": [
    "from tqdm import tqdm\n",
    "\n",
    "size = width, height = 100, 100\n",
    "fontsize = 80\n",
    "backgroundColor = 'white'\n",
    "def findFiles(path): \n",
    "    return glob.glob(path)\n",
    "\n",
    "fonts_eng_list = findFiles('C:\\\\Users\\\\pasaa\\\\OneDrive\\\\Grad\\\\CSC 449\\\\Project\\\\data\\\\fonts_eng\\\\*.ttf')\n"
   ]
  },
  {
   "cell_type": "code",
   "execution_count": 24,
   "metadata": {},
   "outputs": [
    {
     "name": "stderr",
     "output_type": "stream",
     "text": [
      "52it [00:00, 802.13it/s]\n",
      "52it [00:00, 1002.70it/s]\n",
      "52it [00:00, 1002.67it/s]\n",
      "52it [00:00, 983.74it/s]\n",
      "52it [00:00, 1002.69it/s]\n",
      "52it [00:00, 1064.02it/s]\n",
      "52it [00:00, 1064.05it/s]\n",
      "52it [00:00, 1042.78it/s]\n",
      "52it [00:00, 1002.70it/s]\n",
      "52it [00:00, 1064.05it/s]\n",
      "52it [00:00, 965.51it/s]\n",
      "52it [00:00, 868.98it/s]\n",
      "52it [00:00, 628.18it/s]\n",
      "52it [00:00, 931.08it/s]\n",
      "52it [00:00, 947.99it/s]\n",
      "52it [00:00, 840.96it/s]\n",
      "52it [00:00, 766.76it/s]\n",
      "52it [00:00, 695.20it/s]\n",
      "52it [00:00, 931.54it/s]\n",
      "52it [00:00, 1042.80it/s]\n",
      "52it [00:00, 965.54it/s]\n",
      "52it [00:00, 868.98it/s]\n",
      "52it [00:00, 714.24it/s]\n",
      "52it [00:00, 914.73it/s]\n",
      "52it [00:00, 947.97it/s]\n",
      "52it [00:00, 983.75it/s]\n",
      "52it [00:00, 868.98it/s]\n",
      "52it [00:00, 868.97it/s]\n",
      "52it [00:00, 1022.35it/s]\n",
      "52it [00:00, 983.30it/s]\n",
      "52it [00:00, 915.15it/s]\n",
      "52it [00:00, 965.52it/s]\n"
     ]
    }
   ],
   "source": [
    "for font in fonts_eng_list:\n",
    "    font_name = os.path.splitext(os.path.basename(font))[0]\n",
    "    # set the font\n",
    "    font = ImageFont.truetype(os.path.join(\"fonts\", font), fontsize)\n",
    "    if not os.path.exists('./trainset_e/%s' %font_name):\n",
    "        os.mkdir('./trainset_e/%s' %font_name)\n",
    "    for index, char in tqdm(enumerate(characters_list)): \n",
    "        text = char \n",
    "        im = Image.new(\"RGB\", size, backgroundColor) \n",
    "        dr = ImageDraw.Draw(im)        \n",
    "        # Write this character to the drawboard! \n",
    "        dr.text((0, 0), text, font=font, fill=\"#000000\")\n",
    "        # Save this plain version to the disk \n",
    "        im.save('trainset_e/%s/' %font_name+str(index)+'.png')\n",
    "        \n",
    "        \n"
   ]
  },
  {
   "cell_type": "code",
   "execution_count": 5,
   "metadata": {},
   "outputs": [],
   "source": [
    "def findFiles(path): \n",
    "    return glob.glob(path)\n",
    "fonts_list = findFiles('C:\\\\Users\\\\pasaa\\\\OneDrive\\\\Grad\\\\CSC 449\\\\Project\\\\data\\\\fonts\\\\*.ttf')"
   ]
  },
  {
   "cell_type": "code",
   "execution_count": 17,
   "metadata": {},
   "outputs": [
    {
     "data": {
      "text/plain": [
       "True"
      ]
     },
     "execution_count": 17,
     "metadata": {},
     "output_type": "execute_result"
    }
   ],
   "source": []
  }
 ],
 "metadata": {
  "kernelspec": {
   "display_name": "Python 3",
   "language": "python",
   "name": "python3"
  },
  "language_info": {
   "codemirror_mode": {
    "name": "ipython",
    "version": 3
   },
   "file_extension": ".py",
   "mimetype": "text/x-python",
   "name": "python",
   "nbconvert_exporter": "python",
   "pygments_lexer": "ipython3",
   "version": "3.8.3"
  }
 },
 "nbformat": 4,
 "nbformat_minor": 4
}
